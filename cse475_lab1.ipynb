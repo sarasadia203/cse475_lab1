{
  "nbformat": 4,
  "nbformat_minor": 0,
  "metadata": {
    "colab": {
      "provenance": [],
      "authorship_tag": "ABX9TyMY/HcL+6x6OMLEnoKGeTHk",
      "include_colab_link": true
    },
    "kernelspec": {
      "name": "python3",
      "display_name": "Python 3"
    },
    "language_info": {
      "name": "python"
    }
  },
  "cells": [
    {
      "cell_type": "markdown",
      "metadata": {
        "id": "view-in-github",
        "colab_type": "text"
      },
      "source": [
        "<a href=\"https://colab.research.google.com/github/sarasadia203/cse475_lab1/blob/main/cse475_lab1.ipynb\" target=\"_parent\"><img src=\"https://colab.research.google.com/assets/colab-badge.svg\" alt=\"Open In Colab\"/></a>"
      ]
    },
    {
      "cell_type": "code",
      "execution_count": 3,
      "metadata": {
        "id": "NU49fNUT58Y9"
      },
      "outputs": [],
      "source": [
        "from sklearn.model_selection import train_test_split\n",
        "from sklearn.ensemble import RandomForestClassifier\n",
        "from sklearn.tree import DecisionTreeClassifier\n",
        "from sklearn.metrics import accuracy_score\n",
        "\n"
      ]
    },
    {
      "cell_type": "code",
      "source": [
        "# Split the dataset into training and testing sets\n",
        "X = df.drop('poisonous', axis=1)\n",
        "y = df['poisonous']\n",
        "\n",
        "X_train, X_test, y_train, y_test = train_test_split(X, y, test_size=0.2, random_state=42)\n",
        "\n",
        "# Evaluate Random Forest with different n_estimators values\n",
        "n_estimators_values = [1, 50, 100, 150, 200, 250]\n",
        "rf_accuracies = {}\n",
        "\n",
        "for n in n_estimators_values:\n",
        "    rf_model = RandomForestClassifier(n_estimators=n, random_state=42)\n",
        "    rf_model.fit(X_train, y_train)\n",
        "    y_pred = rf_model.predict(X_test)\n",
        "    accuracy = accuracy_score(y_test, y_pred)\n",
        "    rf_accuracies[n] = accuracy\n"
      ],
      "metadata": {
        "colab": {
          "base_uri": "https://localhost:8080/",
          "height": 211
        },
        "id": "oGUSx_Dt6Rcv",
        "outputId": "5ca2d48a-4944-481e-b42d-f17b5cef62d4"
      },
      "execution_count": 4,
      "outputs": [
        {
          "output_type": "error",
          "ename": "NameError",
          "evalue": "name 'df' is not defined",
          "traceback": [
            "\u001b[0;31m---------------------------------------------------------------------------\u001b[0m",
            "\u001b[0;31mNameError\u001b[0m                                 Traceback (most recent call last)",
            "\u001b[0;32m<ipython-input-4-c23b73b960cf>\u001b[0m in \u001b[0;36m<cell line: 2>\u001b[0;34m()\u001b[0m\n\u001b[1;32m      1\u001b[0m \u001b[0;31m# Split the dataset into training and testing sets\u001b[0m\u001b[0;34m\u001b[0m\u001b[0;34m\u001b[0m\u001b[0m\n\u001b[0;32m----> 2\u001b[0;31m \u001b[0mX\u001b[0m \u001b[0;34m=\u001b[0m \u001b[0mdf\u001b[0m\u001b[0;34m.\u001b[0m\u001b[0mdrop\u001b[0m\u001b[0;34m(\u001b[0m\u001b[0;34m'poisonous'\u001b[0m\u001b[0;34m,\u001b[0m \u001b[0maxis\u001b[0m\u001b[0;34m=\u001b[0m\u001b[0;36m1\u001b[0m\u001b[0;34m)\u001b[0m\u001b[0;34m\u001b[0m\u001b[0;34m\u001b[0m\u001b[0m\n\u001b[0m\u001b[1;32m      3\u001b[0m \u001b[0my\u001b[0m \u001b[0;34m=\u001b[0m \u001b[0mdf\u001b[0m\u001b[0;34m[\u001b[0m\u001b[0;34m'poisonous'\u001b[0m\u001b[0;34m]\u001b[0m\u001b[0;34m\u001b[0m\u001b[0;34m\u001b[0m\u001b[0m\n\u001b[1;32m      4\u001b[0m \u001b[0;34m\u001b[0m\u001b[0m\n\u001b[1;32m      5\u001b[0m \u001b[0mX_train\u001b[0m\u001b[0;34m,\u001b[0m \u001b[0mX_test\u001b[0m\u001b[0;34m,\u001b[0m \u001b[0my_train\u001b[0m\u001b[0;34m,\u001b[0m \u001b[0my_test\u001b[0m \u001b[0;34m=\u001b[0m \u001b[0mtrain_test_split\u001b[0m\u001b[0;34m(\u001b[0m\u001b[0mX\u001b[0m\u001b[0;34m,\u001b[0m \u001b[0my\u001b[0m\u001b[0;34m,\u001b[0m \u001b[0mtest_size\u001b[0m\u001b[0;34m=\u001b[0m\u001b[0;36m0.2\u001b[0m\u001b[0;34m,\u001b[0m \u001b[0mrandom_state\u001b[0m\u001b[0;34m=\u001b[0m\u001b[0;36m42\u001b[0m\u001b[0;34m)\u001b[0m\u001b[0;34m\u001b[0m\u001b[0;34m\u001b[0m\u001b[0m\n",
            "\u001b[0;31mNameError\u001b[0m: name 'df' is not defined"
          ]
        }
      ]
    },
    {
      "cell_type": "code",
      "source": [
        "import pandas as pd\n",
        "from sklearn.preprocessing import LabelEncoder\n",
        "from sklearn.model_selection import train_test_split\n",
        "from sklearn.ensemble import RandomForestClassifier\n",
        "from sklearn.tree import DecisionTreeClassifier\n",
        "from sklearn.metrics import accuracy_score\n",
        "\n",
        "# Create the dataset as a DataFrame\n",
        "data = {\n",
        "    'poisonous': ['no', 'no', 'yes', 'no', 'yes'],\n",
        "    'cap-shape': ['b', 'c', 'x', 'f', 'k'],\n",
        "    'cap-surface': ['f', 'g', 'y', 's', 'f'],\n",
        "    'cap-color': ['n', 'b', 'c', 'g', 'r'],\n",
        "    'bruises': ['t', 'f', 't', 'f', 't'],\n",
        "    'odor': ['a', 'l', 'c', 'y', 'f'],\n",
        "    'gill-attachment': ['a', 'd', 'f', 'n', 'a'],\n",
        "    'gill-spacing': ['c', 'w', 'd', 'c', 'w'],\n",
        "    'gill-size': ['b', 'n', 'b', 'n', 'b'],\n",
        "    'gill-color': ['k', 'n', 'b', 'h', 'g'],\n",
        "    'stalk-shape': ['e', 't', 'e', 't', 'e'],\n",
        "    'stalk-root': ['b', 'c', 'u', 'e', 'r'],\n",
        "    'stalk-surface-above-ring': ['f', 'y', 'k', 's', 'f'],\n",
        "    'stalk-surface-below-ring': ['f', 'y', 'k', 's', 'f'],\n",
        "    'stalk-color-above-ring': ['n', 'b', 'c', 'g', 'o'],\n",
        "    'stalk-color-below-ring': ['n', 'b', 'c', 'g', 'o'],\n",
        "    'veil-type': ['p', 'u', 'p', 'u', 'p'],\n",
        "    'veil-color': ['n', 'o', 'w', 'y', 'n'],\n",
        "    'ring-number': ['n', 'o', 't', 'n', 'o'],\n",
        "    'ring-type': ['c', 'e', 'f', 'l', 'n'],\n",
        "    'spore-print-color': ['k', 'n', 'b', 'h', 'r'],\n",
        "    'population': ['a', 'c', 'n', 's', 'a'],\n",
        "    'habitat': ['g', 'l', 'm', 'p', 'u']\n",
        "}\n",
        "\n",
        "df = pd.DataFrame(data)\n",
        "\n",
        "# Encoding categorical variables\n",
        "label_encoders = {}\n",
        "for column in df.columns:\n",
        "    le = LabelEncoder()\n",
        "    df[column] = le.fit_transform(df[column])\n",
        "    label_encoders[column] = le\n",
        "\n",
        "# Split the dataset into training and testing sets\n",
        "X = df.drop('poisonous', axis=1)\n",
        "y = df['poisonous']\n",
        "\n",
        "X_train, X_test, y_train, y_test = train_test_split(X, y, test_size=0.2, random_state=42)\n",
        "\n",
        "# Evaluate Random Forest with different n_estimators values\n",
        "n_estimators_values = [1, 50, 100, 150, 200, 250]\n",
        "rf_accuracies = {}\n",
        "\n",
        "for n in n_estimators_values:\n",
        "    rf_model = RandomForestClassifier(n_estimators=n, random_state=42)\n",
        "    rf_model.fit(X_train, y_train)\n",
        "    y_pred = rf_model.predict(X_test)\n",
        "    accuracy = accuracy_score(y_test, y_pred)\n",
        "    rf_accuracies[n] = accuracy\n",
        "\n",
        "# Train and evaluate a Decision Tree model\n",
        "dt_model = DecisionTreeClassifier(random_state=42)\n",
        "dt_model.fit(X_train, y_train)\n",
        "y_pred_dt = dt_model.predict(X_test)\n",
        "dt_accuracy = accuracy_score(y_test, y_pred_dt)\n",
        "\n",
        "print(\"Random Forest Accuracies:\", rf_accuracies)\n",
        "print(\"Decision Tree Accuracy:\", dt_accuracy)"
      ],
      "metadata": {
        "colab": {
          "base_uri": "https://localhost:8080/"
        },
        "id": "Gx2eq0m86yov",
        "outputId": "70d69a77-1379-41f5-ebda-92f1cb410bd7"
      },
      "execution_count": 5,
      "outputs": [
        {
          "output_type": "stream",
          "name": "stdout",
          "text": [
            "Random Forest Accuracies: {1: 0.0, 50: 1.0, 100: 1.0, 150: 1.0, 200: 1.0, 250: 1.0}\n",
            "Decision Tree Accuracy: 1.0\n"
          ]
        }
      ]
    }
  ]
}